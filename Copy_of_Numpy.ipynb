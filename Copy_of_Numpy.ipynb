{
  "nbformat": 4,
  "nbformat_minor": 0,
  "metadata": {
    "colab": {
      "provenance": [],
      "authorship_tag": "ABX9TyOj1om+YV2N5OAXBsi91hgB",
      "include_colab_link": true
    },
    "kernelspec": {
      "name": "python3",
      "display_name": "Python 3"
    },
    "language_info": {
      "name": "python"
    }
  },
  "cells": [
    {
      "cell_type": "markdown",
      "metadata": {
        "id": "view-in-github",
        "colab_type": "text"
      },
      "source": [
        "<a href=\"https://colab.research.google.com/github/Manujk-123/Marvel-Task-Level-1/blob/main/Copy_of_Numpy.ipynb\" target=\"_parent\"><img src=\"https://colab.research.google.com/assets/colab-badge.svg\" alt=\"Open In Colab\"/></a>"
      ]
    },
    {
      "cell_type": "code",
      "execution_count": null,
      "metadata": {
        "colab": {
          "base_uri": "https://localhost:8080/"
        },
        "id": "wOqbgC18OVxx",
        "outputId": "40d8eaad-4c8c-4265-d449-25d1d6306008"
      },
      "outputs": [
        {
          "output_type": "stream",
          "name": "stdout",
          "text": [
            "Repeated Array:\n",
            " [[ 1  2  3  4  5  1  2  3  4  5  1  2  3  4  5]\n",
            " [ 6  7  8  9 10  6  7  8  9 10  6  7  8  9 10]\n",
            " [ 1  2  3  4  5  1  2  3  4  5  1  2  3  4  5]\n",
            " [ 6  7  8  9 10  6  7  8  9 10  6  7  8  9 10]\n",
            " [ 1  2  3  4  5  1  2  3  4  5  1  2  3  4  5]\n",
            " [ 6  7  8  9 10  6  7  8  9 10  6  7  8  9 10]\n",
            " [ 1  2  3  4  5  1  2  3  4  5  1  2  3  4  5]\n",
            " [ 6  7  8  9 10  6  7  8  9 10  6  7  8  9 10]\n",
            " [ 1  2  3  4  5  1  2  3  4  5  1  2  3  4  5]\n",
            " [ 6  7  8  9 10  6  7  8  9 10  6  7  8  9 10]]\n",
            "Index Array:\n",
            " [[0 1 2 3 4]\n",
            " [5 6 7 8 9]]\n"
          ]
        }
      ],
      "source": [
        "import numpy as np\n",
        "\n",
        "# Define a small array\n",
        "small_array = np.array([[1, 2, 3, 4, 5], [6, 7, 8, 9, 10]])\n",
        "\n",
        "# Repeat the small array to form a larger array\n",
        "# Here, we repeat it 5 times along axis 0 and 3 times along axis 1\n",
        "repeated_array = np.tile(small_array, (5, 3))\n",
        "\n",
        "print(\"Repeated Array:\\n\", repeated_array)\n",
        "import numpy as np\n",
        "\n",
        "# Define the shape of the array\n",
        "shape = (2, 5)  # For example, a 2x5 array\n",
        "\n",
        "# Generate an array with element indexes\n",
        "index_array = np.arange(np.prod(shape)).reshape(shape)\n",
        "\n",
        "print(\"Index Array:\\n\", index_array)\n"
      ]
    }
  ]
}
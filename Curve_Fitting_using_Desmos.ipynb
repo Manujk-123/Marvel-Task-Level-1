{
  "nbformat": 4,
  "nbformat_minor": 0,
  "metadata": {
    "colab": {
      "provenance": [],
      "authorship_tag": "ABX9TyMJgHoUIJR2si5RODT7t20I",
      "include_colab_link": true
    },
    "kernelspec": {
      "name": "python3",
      "display_name": "Python 3"
    },
    "language_info": {
      "name": "python"
    }
  },
  "cells": [
    {
      "cell_type": "markdown",
      "metadata": {
        "id": "view-in-github",
        "colab_type": "text"
      },
      "source": [
        "<a href=\"https://colab.research.google.com/github/Manujk-123/Marvel-Task-Level-1/blob/main/Curve_Fitting_using_Desmos.ipynb\" target=\"_parent\"><img src=\"https://colab.research.google.com/assets/colab-badge.svg\" alt=\"Open In Colab\"/></a>"
      ]
    },
    {
      "cell_type": "markdown",
      "source": [
        "#**What does it mean by Desmos?**</br>\n",
        "Desmos is a powerful online graphing calculator that allows us to visualize mathematical functions and data in an interactive way. It's widely used in education for teaching concepts in algebra, calculus, and statistics. Here’s an overview of some key features and how to use Desmos effectively:</br>\n",
        "##**Key Features of Desmos**\n",
        "**1 Graphing Functions:**\n",
        "\n",
        "- We can input equations and inequalities to graph them instantly.\n",
        "- It supports various types of functions, including polynomial, trigonometric, exponential, and logarithmic functions.</br>\n",
        "\n",
        "**2 Data Visualization:**\n",
        "\n",
        "- Allows us to input data points and create scatter plots.\n",
        "- We can fit lines or curves to your data using regression features.\n",
        "\n",
        "**3 Interactive Sliders:**\n",
        "\n",
        "- We can create sliders for parameters in your equations to see how changes affect the graph dynamically.\n",
        "\n",
        "**4 Inequalities and Regions:**\n",
        "\n",
        "- We can graph inequalities and visualize regions of solutions.\n",
        "\n",
        "**5 Table Functionality:**\n",
        "\n",
        "- We can create tables to manage data, which can be useful for graphing points or functions defined by discrete data.\n",
        "\n",
        "**6 Customizable Appearance:**\n",
        "\n",
        "- We can change colors, styles, and labels for better visualization and presentation.\n",
        "\n",
        "##**Implementation**\n",
        "\n",
        "**-->View my desmos Curve fitting graph here** [curve fitting](https://www.desmos.com/calculator/omj8mfiaah)\n",
        "\n",
        "\n"
      ],
      "metadata": {
        "id": "ihJS5Qg8zrDJ"
      }
    }
  ]
}